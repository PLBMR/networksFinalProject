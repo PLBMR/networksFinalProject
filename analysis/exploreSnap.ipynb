{
 "cells": [
  {
   "cell_type": "markdown",
   "metadata": {},
   "source": [
    "# Exploration of Snap Library\n",
    "\n",
    "_By [Michael Rosenberg](mailto:mmrosenb@andrew.cmu.edu)._\n",
    "\n",
    "_Last Updated: 12/16/2016 2:35 AM EST._\n",
    "\n",
    "_**Description**: In this notebook, I explore the use of the library featured in the [Stanford Network Analysis Project (SNAP)](http://snap.stanford.edu). In particular, I am interested in seeing how amenable our current [\"Does Business With\"](../data/processed/doesBusinessWith.pkl) network is to analysis in this project._"
   ]
  },
  {
   "cell_type": "code",
   "execution_count": 1,
   "metadata": {
    "collapsed": true
   },
   "outputs": [],
   "source": [
    "#imports\n",
    "#data processing\n",
    "import pandas as pd\n",
    "import cPickle as cpkl\n",
    "#network analysis\n",
    "import networkx as nx\n",
    "import snap\n",
    "#plotting\n",
    "import matplotlib.pyplot as plt\n",
    "import seaborn as sns\n",
    "\n",
    "#set constants\n",
    "%matplotlib inline\n",
    "sns.set_style(\"dark\")\n",
    "sigLev = 3\n",
    "figWidth = figHeight = 5"
   ]
  },
  {
   "cell_type": "markdown",
   "metadata": {},
   "source": [
    "Let us first load in our \"doesBusinessWith\" Network. This network was studied in our [standard metric analysis](doesBusinessWithAnalysis.ipynb) and our [simple policy analysis](policyAnalysis.ipynb)."
   ]
  },
  {
   "cell_type": "code",
   "execution_count": 3,
   "metadata": {
    "collapsed": false
   },
   "outputs": [],
   "source": [
    "dbwNet = nx.read_gpickle(\"../data/processed/doesBusinessWith.pkl\")"
   ]
  },
  {
   "cell_type": "code",
   "execution_count": 4,
   "metadata": {
    "collapsed": true
   },
   "outputs": [],
   "source": [
    "numNodes = len(dbwNet.nodes())\n",
    "numEdges = len(dbwNet.edges())"
   ]
  },
  {
   "cell_type": "markdown",
   "metadata": {},
   "source": [
    "We see that our network has {{numNodes}} nodes and {{numEdges}} edges. This makes the scalability of many metric calculations and visualizations a cause for concern, and th"
   ]
  }
 ],
 "metadata": {
  "kernelspec": {
   "display_name": "Python 2",
   "language": "python",
   "name": "python2"
  },
  "language_info": {
   "codemirror_mode": {
    "name": "ipython",
    "version": 2
   },
   "file_extension": ".py",
   "mimetype": "text/x-python",
   "name": "python",
   "nbconvert_exporter": "python",
   "pygments_lexer": "ipython2",
   "version": "2.7.10"
  },
  "latex_envs": {
   "bibliofile": "biblio.bib",
   "cite_by": "apalike",
   "current_citInitial": 1,
   "eqLabelWithNumbers": true,
   "eqNumInitial": 0
  },
  "nav_menu": {},
  "toc": {
   "navigate_menu": true,
   "number_sections": false,
   "sideBar": true,
   "threshold": 6,
   "toc_cell": false,
   "toc_section_display": "block",
   "toc_window_display": false
  }
 },
 "nbformat": 4,
 "nbformat_minor": 1
}
