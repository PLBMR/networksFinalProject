{
 "cells": [
  {
   "cell_type": "markdown",
   "metadata": {},
   "source": [
    "# Business Network: Policy Analysis\n",
    "\n",
    "In this notebook, I hope to identify the costs and benefits of particular alterations to the network when I commit the network to particular policies."
   ]
  },
  {
   "cell_type": "code",
   "execution_count": 2,
   "metadata": {
    "collapsed": false
   },
   "outputs": [],
   "source": [
    "#imports\n",
    "\n",
    "import pandas as pd\n",
    "import networkx as nx\n",
    "import matplotlib.pyplot as plt\n",
    "import seaborn as sns\n",
    "import numpy as np\n",
    "import cPickle as cpkl #for serialization\n",
    "from IPython.display import display, HTML\n",
    "\n",
    "#constants\n",
    "\n",
    "%matplotlib inline\n",
    "sns.set_style(\"dark\")\n",
    "sigLev = 3\n",
    "figWidth = figHeight = 5\n",
    "\n",
    "#useful functions\n",
    "\n",
    "def getEdgeInfo(edgeVec,keyName):\n",
    "    #helper for returning a list of edge information over the whole list of\n",
    "    #edges\n",
    "    edgeInfoDict = {\"edgeID\":[],keyName:[]}\n",
    "    for edgeTup in edgeVec:\n",
    "        #0th entry is ID\n",
    "        edgeInfoDict[\"edgeID\"].append(edgeTup[0])\n",
    "        #then get key info\n",
    "        givenEdgeDict = edgeTup[2]\n",
    "        edgeInfoDict[keyName].append(givenEdgeDict[keyName])\n",
    "    return edgeInfoDict\n",
    "\n",
    "def getNodeInfo(nodeVec,keyName):\n",
    "    #helper for returning a list of node information over the whole list of\n",
    "    #nodes\n",
    "    nodeInfoDict = {\"nodeID\":[],keyName:[]}\n",
    "    for nodeTup in nodeVec:\n",
    "        #0th entry is ID\n",
    "        nodeInfoDict[\"nodeID\"].append(nodeTup[0])\n",
    "        #then get key info\n",
    "        givenNodeDict = nodeTup[1]\n",
    "        nodeInfoDict[keyName].append(givenNodeDict[keyName])\n",
    "    return nodeInfoDict\n",
    "\n",
    "def makeDensity(givenFrame,givenCountVar):\n",
    "    #helper that makes density in the given frame\n",
    "    givenFrame[\"density\"] = (givenFrame[givenCountVar] / \n",
    "                                sum(givenFrame[givenCountVar]))\n",
    "    return givenFrame\n",
    "\n",
    "def sortAndRank(givenFrame,givenSortVar,withLog = True):\n",
    "    #helper that sorts and ranks a given dataframe over a sorting variable\n",
    "    givenFrame = givenFrame.sort_values(givenSortVar,ascending = False)\n",
    "    givenFrame[\"rank\"] = range(givenFrame.shape[0])\n",
    "    if (withLog): #add log rang\n",
    "        givenFrame[\"logRank\"] = np.log(givenFrame[\"rank\"] + 1)\n",
    "    return givenFrame"
   ]
  },
  {
   "cell_type": "code",
   "execution_count": 3,
   "metadata": {
    "collapsed": true
   },
   "outputs": [],
   "source": [
    "#load in dataset\n",
    "mainNetwork = nx.read_gpickle(\"../data/processed/doesBusinessWith.pkl\")"
   ]
  },
  {
   "cell_type": "markdown",
   "metadata": {},
   "source": [
    "## Placement of Intermediaries\n",
    "\n",
    "After studying some of the [clustering aspects of our network](businessNetworkClusterAnalysis.ipynb), it is apparent that intermediaries have extremely low clustering in this network. This suggests a level of fragility that would occur if intermediaries were removed from the network or disconnected from the network. Let us study where these intermediaries are located."
   ]
  },
  {
   "cell_type": "code",
   "execution_count": 14,
   "metadata": {
    "collapsed": false
   },
   "outputs": [],
   "source": [
    "nodeVec = mainNetwork.nodes(data = True)\n",
    "#get agent types and country codes\n",
    "countryCodeFrame = pd.DataFrame(getNodeInfo(nodeVec,\"countrycodes\"))\n",
    "agentTypeFrame = pd.DataFrame(getNodeInfo(nodeVec,\"entType\"))"
   ]
  },
  {
   "cell_type": "code",
   "execution_count": 19,
   "metadata": {
    "collapsed": false
   },
   "outputs": [],
   "source": [
    "#merge the two\n",
    "countryAgentFrame = agentTypeFrame.merge(countryCodeFrame,on = \"nodeID\")\n",
    "#only consider intermediaries\n",
    "intermediaryCountryFrame = countryAgentFrame[countryAgentFrame[\"entType\"] ==\n",
    "                                             \"Intermediaries\"]\n",
    "#then group this by country count\n",
    "intCountryCountFrame = intermediaryCountryFrame.groupby(\"countrycodes\",\n",
    "                                            as_index = False)[\"nodeID\"].count()\n",
    "#get density and rank\n",
    "intCountryCountFrame = makeDensity(intCountryCountFrame,\"nodeID\")\n",
    "intCountryCountFrame = sortAndRank(intCountryCountFrame,\"density\")"
   ]
  },
  {
   "cell_type": "code",
   "execution_count": 20,
   "metadata": {
    "collapsed": false
   },
   "outputs": [
    {
     "data": {
      "text/plain": [
       "<matplotlib.text.Text at 0x10d38a410>"
      ]
     },
     "execution_count": 20,
     "metadata": {},
     "output_type": "execute_result"
    },
    {
     "data": {
      "image/png": "[encoded data removed]",
      "text/plain": [
       "<matplotlib.figure.Figure at 0x15503f1d0>"
      ]
     },
     "metadata": {},
     "output_type": "display_data"
    }
   ],
   "source": [
    "#then plot\n",
    "givenFig = plt.figure(figsize = (figWidth,figHeight))\n",
    "plt.plot(intCountryCountFrame[\"logRank\"],intCountryCountFrame[\"density\"])\n",
    "plt.xlabel(\"$\\log(Rank)$\")\n",
    "plt.ylabel(\"Density\")\n",
    "plt.title(\"Distribution of Country Codes for Intermediaries\\nBy $\\log(Rank)$\")"
   ]
  },
  {
   "cell_type": "markdown",
   "metadata": {},
   "source": [
    "_Figure 1: Distribution of Country Codes for Intermediaries by $\\log(Rank).$_\n",
    "\n",
    "We see that most of the distribution fades off after the top $e^3 \\approx 21$ most frequent country codes in our distribution. This is slightly less dense than the distribution of country codes for the overall network, where the distribution fades out after $e^5 \\approx 55$ most frequent country codes in our overall network. This suggests that the distribution of country codes for intermediaries is more concentrated than the distribution for the overall network."
   ]
  },
  {
   "cell_type": "code",
   "execution_count": 22,
   "metadata": {
    "collapsed": false
   },
   "outputs": [
    {
     "data": {
      "text/plain": [
       "<matplotlib.text.Text at 0x174521650>"
      ]
     },
     "execution_count": 22,
     "metadata": {},
     "output_type": "execute_result"
    },
    {
     "data": {
      "image/png": "[encoded data removed]",
      "text/plain": [
       "<matplotlib.figure.Figure at 0x15503f5d0>"
      ]
     },
     "metadata": {},
     "output_type": "display_data"
    }
   ],
   "source": [
    "topLev = 10\n",
    "topTenCountryCodesForIntFrame = intCountryCountFrame.iloc[0:topLev,:]\n",
    "#then plot\n",
    "givenFig = plt.figure(figsize = (figWidth,figHeight))\n",
    "sns.barplot(x = \"countrycodes\",y = \"density\",\n",
    "            data = topTenCountryCodesForIntFrame)\n",
    "plt.xlabel(\"Country Code\")\n",
    "plt.ylabel(\"Density\")\n",
    "plt.title(\"Distribution of Top Ten Country Codes\\nFor Intermediaries\")"
   ]
  },
  {
   "cell_type": "markdown",
   "metadata": {},
   "source": [
    "_Figure 2: Distribution of the Top Ten Country Codes for Intermediaries._\n",
    "\n",
    "We see that an overwhelming number of our intermediaries are in Hong Kong, and they represent a huge amount of the distribution. We see that as with our top ten country codes for all agents in the network, Singapore (SGP), Taiwan (TWN), the United States (USA), China (CHN), and the United Kingdom (GBR) show up as very frequent in the distribution of country codes for intermediaries. Interestingly, certain Southeast Asian countries such as Indonesia (IDN) and Malaysia (MYS) also show up in this network, which suggests a potential importance of these intermediaries in their relationship with tax havens set up to account for China and Taiwan."
   ]
  },
  {
   "cell_type": "code",
   "execution_count": 26,
   "metadata": {
    "collapsed": true
   },
   "outputs": [],
   "source": [
    "#get proportion connections for Intermediaries\n",
    "def makePropConnections(nodeID):\n",
    "    #helper that builds the proportion of connections for a given node ID\n",
    "    agentTypes = [\"Intermediaries\",\"Entities\",\"Officers\"]\n",
    "    for agentType in agentTypes:\n",
    "        #initialize number for agent type\n",
    "        mainNetwork.node[nodeID][\"num\" + agentType] = 0\n",
    "    #then move through neighbors\n",
    "    for neighborID in mainNetwork.neighbors(nodeID):\n",
    "        neighborAgentType = mainNetwork.node[neighborID][\"entType\"]\n",
    "        #add to count of agent type of this neighbor\n",
    "        mainNetwork.node[nodeID][\"num\" + neighborAgentType] += 1\n",
    "    #then make proportions\n",
    "    for agentType in agentTypes:\n",
    "        #initialize information for calculating proportions\n",
    "        propName = \"prop\" + agentType\n",
    "        countName = \"num\" + agentType\n",
    "        numNeighbors = len(mainNetwork.neighbors(nodeID))\n",
    "        #then calculate proportion\n",
    "        mainNetwork.node[nodeID][propName] = (\n",
    "            float(mainNetwork.node[nodeID][countName]) / numNeighbors)\n",
    "#perform this for all agents\n",
    "for nodeID in list(agentTypeFrame[\"nodeID\"]):\n",
    "    makePropConnections(nodeID)"
   ]
  },
  {
   "cell_type": "code",
   "execution_count": 29,
   "metadata": {
    "collapsed": false
   },
   "outputs": [],
   "source": [
    "#get our proportions\n",
    "propOfficerFrame = pd.DataFrame(getNodeInfo(nodeVec,\"propOfficers\"))\n",
    "propEntFrame = pd.DataFrame(getNodeInfo(nodeVec,\"propEntities\"))\n",
    "propIntFrame = pd.DataFrame(getNodeInfo(nodeVec,\"propIntermediaries\"))\n",
    "#merge these\n",
    "propFrame = propOfficerFrame.merge(propEntFrame,on = \"nodeID\")\n",
    "propFrame = propFrame.merge(propIntFrame,on = \"nodeID\")\n",
    "propFrame = propFrame.merge(agentTypeFrame,on = \"nodeID\")\n",
    "#then consider only intermediaries\n",
    "intermediaryNeighborFrame = propFrame[propFrame[\"entType\"] == \"Intermediaries\"]"
   ]
  },
  {
   "cell_type": "markdown",
   "metadata": {},
   "source": [
    "Upon a quick analysis, it looks like intermediaries are only connected with entities, and thus officers are not connected with intermediaries. This is a really surprising result given the expected place of intermediaries in the network, and it suggests that removing intermediaries may not have the desired effect that we would expect on the network. Nonetheless, let us see what certain policy decisions could do to the network.\n",
    "\n",
    "## Delete all Intermediaries\n",
    "\n",
    "Let us see what happens to some of our network aspects when we remove all intermediaries from the network."
   ]
  },
  {
   "cell_type": "code",
   "execution_count": null,
   "metadata": {
    "collapsed": false
   },
   "outputs": [],
   "source": [
    "intermediaryNodes = list(intermediaryNeighborFrame[\"nodeID\"])\n",
    "intRemoveNet = mainNetwork.copy()\n",
    "intRemoveNet.remove_nodes_from(intermediaryNodes)"
   ]
  },
  {
   "cell_type": "code",
   "execution_count": null,
   "metadata": {
    "collapsed": true
   },
   "outputs": [],
   "source": [
    "print len(intRemoveNet.nodes())\n",
    "print len(mainNetwork.nodes())"
   ]
  },
  {
   "cell_type": "code",
   "execution_count": null,
   "metadata": {
    "collapsed": true
   },
   "outputs": [],
   "source": []
  }
 ],
 "metadata": {
  "kernelspec": {
   "display_name": "Python 2",
   "language": "python",
   "name": "python2"
  },
  "language_info": {
   "codemirror_mode": {
    "name": "ipython",
    "version": 2
   },
   "file_extension": ".py",
   "mimetype": "text/x-python",
   "name": "python",
   "nbconvert_exporter": "python",
   "pygments_lexer": "ipython2",
   "version": "2.7.10"
  },
  "latex_envs": {
   "bibliofile": "biblio.bib",
   "cite_by": "apalike",
   "current_citInitial": 1,
   "eqLabelWithNumbers": true,
   "eqNumInitial": 0
  },
  "nav_menu": {},
  "toc": {
   "navigate_menu": true,
   "number_sections": true,
   "sideBar": true,
   "threshold": 6,
   "toc_cell": false,
   "toc_section_display": "block",
   "toc_window_display": false
  }
 },
 "nbformat": 4,
 "nbformat_minor": 1
}
