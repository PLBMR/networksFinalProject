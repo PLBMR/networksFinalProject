{
 "cells": [
  {
   "cell_type": "markdown",
   "metadata": {},
   "source": [
    "# Business Network Study: Clustering\n",
    "\n",
    "I think that it might be useful to get measures of embeddedness of Intermediaries by levels of clustering within the network. Thus, I am using this section to discuss the clustering of particular aspects of the \"Does Business With\" Network."
   ]
  },
  {
   "cell_type": "code",
   "execution_count": 2,
   "metadata": {
    "collapsed": true
   },
   "outputs": [],
   "source": [
    "#imports\n",
    "\n",
    "import pandas as pd\n",
    "import networkx as nx\n",
    "import matplotlib.pyplot as plt\n",
    "import seaborn as sns\n",
    "import numpy as np\n",
    "import cPickle as cpkl #for serialization\n",
    "from IPython.display import display, HTML\n",
    "\n",
    "#constants\n",
    "\n",
    "%matplotlib inline\n",
    "sns.set_style(\"dark\")\n",
    "sigLev = 3\n",
    "figWidth = figHeight = 5\n",
    "\n",
    "#useful functions\n",
    "\n",
    "def getEdgeInfo(edgeVec,keyName):\n",
    "    #helper for returning a list of edge information over the whole list of\n",
    "    #edges\n",
    "    edgeInfoDict = {\"edgeID\":[],keyName:[]}\n",
    "    for edgeTup in edgeVec:\n",
    "        #0th entry is ID\n",
    "        edgeInfoDict[\"edgeID\"].append(edgeTup[0])\n",
    "        #then get key info\n",
    "        givenEdgeDict = edgeTup[2]\n",
    "        edgeInfoDict[keyName].append(givenEdgeDict[keyName])\n",
    "    return edgeInfoDict\n",
    "\n",
    "def getNodeInfo(nodeVec,keyName):\n",
    "    #helper for returning a list of node information over the whole list of\n",
    "    #nodes\n",
    "    nodeInfoDict = {\"nodeID\":[],keyName:[]}\n",
    "    for nodeTup in nodeVec:\n",
    "        #0th entry is ID\n",
    "        nodeInfoDict[\"nodeID\"].append(nodeTup[0])\n",
    "        #then get key info\n",
    "        givenNodeDict = nodeTup[1]\n",
    "        nodeInfoDict[keyName].append(givenNodeDict[keyName])\n",
    "    return nodeInfoDict\n",
    "\n",
    "def makeDensity(givenFrame,givenCountVar):\n",
    "    #helper that makes density in the given frame\n",
    "    givenFrame[\"density\"] = (givenFrame[givenCountVar] / \n",
    "                                sum(givenFrame[givenCountVar]))\n",
    "    return givenFrame\n",
    "\n",
    "def sortAndRank(givenFrame,givenSortVar,withLog = True):\n",
    "    #helper that sorts and ranks a given dataframe over a sorting variable\n",
    "    givenFrame = givenFrame.sort_values(givenSortVar,ascending = False)\n",
    "    givenFrame[\"rank\"] = range(givenFrame.shape[0])\n",
    "    if (withLog): #add log rang\n",
    "        givenFrame[\"logRank\"] = np.log(givenFrame[\"rank\"] + 1)\n",
    "    return givenFrame"
   ]
  },
  {
   "cell_type": "code",
   "execution_count": 3,
   "metadata": {
    "collapsed": true
   },
   "outputs": [],
   "source": [
    "#load in dataset\n",
    "mainNetwork = nx.read_gpickle(\"../data/processed/doesBusinessWith.pkl\")"
   ]
  },
  {
   "cell_type": "markdown",
   "metadata": {},
   "source": [
    "# Cluster Analysis"
   ]
  },
  {
   "cell_type": "code",
   "execution_count": 4,
   "metadata": {
    "collapsed": true
   },
   "outputs": [],
   "source": [
    "clusterCoeffDict = nx.clustering(mainNetwork)"
   ]
  },
  {
   "cell_type": "code",
   "execution_count": 8,
   "metadata": {
    "collapsed": false
   },
   "outputs": [],
   "source": [
    "cpkl.dump(clusterCoeffDict,open(\"../data/processed/clusterCoeffDict.pkl\",\"wb\"))"
   ]
  },
  {
   "cell_type": "code",
   "execution_count": 10,
   "metadata": {
    "collapsed": false
   },
   "outputs": [],
   "source": [
    "meanClusteringCoeff = np.mean(clusterCoeffDict.values())"
   ]
  },
  {
   "cell_type": "markdown",
   "metadata": {
    "variables": {
     "meanClusteringCoeff": "0.0015431650912413415"
    }
   },
   "source": [
    "We see that the mean clustering coefficient is {{meanClusteringCoeff}}. This is extremely small, and suggests that this network is not extremely clustered, unlike your typical social network."
   ]
  },
  {
   "cell_type": "code",
   "execution_count": 11,
   "metadata": {
    "collapsed": true
   },
   "outputs": [],
   "source": [
    "#get agent type frame\n",
    "nodeVec = mainNetwork.nodes(data = True)\n",
    "agentTypeFrame = pd.DataFrame(getNodeInfo(nodeVec,\"entType\"))"
   ]
  },
  {
   "cell_type": "code",
   "execution_count": 13,
   "metadata": {
    "collapsed": false
   },
   "outputs": [
    {
     "data": {
      "text/plain": [
       "<matplotlib.axes.AxesSubplot at 0x11fdf6fd0>"
      ]
     },
     "execution_count": 13,
     "metadata": {},
     "output_type": "execute_result"
    },
    {
     "data": {
      "image/png": "[encoded data removed]",
      "text/plain": [
       "<matplotlib.figure.Figure at 0x11fbe8f10>"
      ]
     },
     "metadata": {},
     "output_type": "display_data"
    }
   ],
   "source": [
    "#then get clustering coefficient frame\n",
    "clusterCoeffFrame = pd.DataFrame({\"nodeID\" : clusterCoeffDict.keys(),\n",
    "                                  \"cc\" : clusterCoeffDict.values()})\n",
    "#then merge\n",
    "clusterCoeffFrame = clusterCoeffFrame.merge(agentTypeFrame,on = \"nodeID\")\n",
    "#then plot\n",
    "sns.boxplot(x = \"entType\",y = \"cc\",data = clusterCoeffFrame)"
   ]
  },
  {
   "cell_type": "code",
   "execution_count": null,
   "metadata": {
    "collapsed": true
   },
   "outputs": [],
   "source": [
    "_Figure 1: Clust"
   ]
  }
 ],
 "metadata": {
  "kernelspec": {
   "display_name": "Python 2",
   "language": "python",
   "name": "python2"
  },
  "language_info": {
   "codemirror_mode": {
    "name": "ipython",
    "version": 2
   },
   "file_extension": ".py",
   "mimetype": "text/x-python",
   "name": "python",
   "nbconvert_exporter": "python",
   "pygments_lexer": "ipython2",
   "version": "2.7.10"
  },
  "latex_envs": {
   "bibliofile": "biblio.bib",
   "cite_by": "apalike",
   "current_citInitial": 1,
   "eqLabelWithNumbers": true,
   "eqNumInitial": 0
  },
  "nav_menu": {},
  "toc": {
   "navigate_menu": true,
   "number_sections": true,
   "sideBar": true,
   "threshold": 6,
   "toc_cell": false,
   "toc_section_display": "block",
   "toc_window_display": false
  }
 },
 "nbformat": 4,
 "nbformat_minor": 1
}
