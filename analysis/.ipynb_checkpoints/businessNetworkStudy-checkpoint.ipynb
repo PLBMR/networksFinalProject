{
 "cells": [
  {
   "cell_type": "markdown",
   "metadata": {},
   "source": [
    "# Business Network Study\n",
    "\n",
    "In this notebook, I look for ways to simplify the current cleaned network with multiple edge types into a network of a single canonical edge-type, or perhaps a network with only a few edge types."
   ]
  },
  {
   "cell_type": "code",
   "execution_count": 40,
   "metadata": {
    "collapsed": false
   },
   "outputs": [],
   "source": [
    "#imports\n",
    "import pandas as pd\n",
    "import networkx as nx\n",
    "import matplotlib.pyplot as plt\n",
    "import seaborn as sns\n",
    "import numpy as np\n",
    "from IPython.display import display, HTML\n",
    "\n",
    "#constants\n",
    "%matplotlib inline\n",
    "sns.set_style(\"dark\")\n",
    "sigLev = 3\n",
    "figWidth = figHeight = 5"
   ]
  },
  {
   "cell_type": "markdown",
   "metadata": {},
   "source": [
    "Let us load in ``../data/processed/cleanedNetwork.pkl`` for creating the does business with network. This requires careful reduction and simplification in node types and edge types."
   ]
  },
  {
   "cell_type": "code",
   "execution_count": 22,
   "metadata": {
    "collapsed": true
   },
   "outputs": [],
   "source": [
    "complicatedNet = nx.read_gpickle(\"../data/processed/cleanedNetwork.pkl\")"
   ]
  },
  {
   "cell_type": "code",
   "execution_count": 23,
   "metadata": {
    "collapsed": true
   },
   "outputs": [],
   "source": [
    "#get some quick metrics on this network\n",
    "numNodes = len(complicatedNet.nodes())\n",
    "numEdges = len(complicatedNet.edges())"
   ]
  },
  {
   "cell_type": "markdown",
   "metadata": {
    "variables": {
     "numEdges": "1392096",
     "numNodes": "1040537"
    }
   },
   "source": [
    "We see that there are {{numNodes}} nodes and {{numEdges}} edges in this network. Note that this network is currently directed, and thus represent a set of directed relationships. This network also contains 4 different types of agents, as outlined in the [ICIJ terms and definitions section for the Offshore Leaks Database](https://offshoreleaks.icij.org/pages/about#terms_definition). Given the many different types of agents and relationships presented in this network, we need to spend some time finding how we can simplify this network.\n",
    "\n",
    "The key components we are interested in for our analysis is:\n",
    "\n",
    "* Agents that represent meaningful stakeholders. This means that we should really be considering those people who are financially obligated in the network, and remove agents (such as addresses) that don't represent meaningful financial actors.\n",
    "\n",
    "* We should remove relationships that do not involve fiscal or business-wise obligations. Given that we are interested in the social capital created by the use of tax havens in the Global 1%, it is essential that we capture relationships that create the social capital involved in dealings with tax havens. This means relationships that do not represent fiscal or business-wise obligations will not have relevance when defining social capital within this network.\n",
    "\n",
    "* We should look to simplify most of these relationships into simple categories. In order to allow for strong interpretability of the metrics on our analysis, having one or two simple relationships can help us with achieving this goal.\n",
    "\n",
    "Let us begin our reductions and simplifications on this network.\n",
    "\n",
    "## Node Reduction\n",
    "\n",
    "As discussed in our [Initial Analysis Notebook](initialAnalysis.ipynb), close to 15% of the nodes in this network are addresses (see Initial Analysis Notebook, Figure 1). I would argue that these nodes do not represent financial actors and are more focused on locational paper trails. That being said, before we remove them, Let us see the kind of relationships associated with edges coming from address nodes and edges going to address nodes."
   ]
  },
  {
   "cell_type": "code",
   "execution_count": 24,
   "metadata": {
    "collapsed": true
   },
   "outputs": [],
   "source": [
    "#get edges from addresses\n",
    "fromAddressEdgeList = []\n",
    "toAddressEdgeList = []\n",
    "for edge in complicatedNet.edges(data = True):\n",
    "    #get from and to nodes\n",
    "    fromNode = edge[0]\n",
    "    toNode = edge[1]\n",
    "    #then get information on those nodes\n",
    "    fromNodeType = complicatedNet.node[fromNode][\"entType\"]\n",
    "    toNodeType = complicatedNet.node[toNode][\"entType\"]\n",
    "    #check type\n",
    "    if (fromNodeType == \"Addresses\"):\n",
    "        fromAddressEdgeList.append(edge)\n",
    "    if (toNodeType == \"Addresses\"):\n",
    "        toAddressEdgeList.append(edge)"
   ]
  },
  {
   "cell_type": "code",
   "execution_count": 25,
   "metadata": {
    "collapsed": false
   },
   "outputs": [
    {
     "data": {
      "text/html": [
       "<table border=\"1\" class=\"dataframe\">\n",
       "  <thead>\n",
       "    <tr style=\"text-align: right;\">\n",
       "      <th>Edge Type</th>\n",
       "      <th>Count</th>\n",
       "    </tr>\n",
       "  </thead>\n",
       "  <tbody>\n",
       "    <tr>\n",
       "      <td>same address as</td>\n",
       "      <td>965</td>\n",
       "    </tr>\n",
       "  </tbody>\n",
       "</table>"
      ],
      "text/plain": [
       "<IPython.core.display.HTML object>"
      ]
     },
     "metadata": {},
     "output_type": "display_data"
    }
   ],
   "source": [
    "#function to get edge category frames\n",
    "#taken from initialAnalysis.ipynb\n",
    "def getEdgeInfo(edgeVec,keyName):\n",
    "    #helper for returning a list of edge information over the whole list of\n",
    "    #edges\n",
    "    edgeInfoDict = {\"edgeID\":[],keyName:[]}\n",
    "    for edgeTup in edgeVec:\n",
    "        #0th entry is ID\n",
    "        edgeInfoDict[\"edgeID\"].append(edgeTup[0])\n",
    "        #then get key info\n",
    "        givenEdgeDict = edgeTup[2]\n",
    "        edgeInfoDict[keyName].append(givenEdgeDict[keyName])\n",
    "    return edgeInfoDict\n",
    "#then get our edge type frames\n",
    "fromAddressEdgeTypeFrame = pd.DataFrame(getEdgeInfo(fromAddressEdgeList,\n",
    "                                                    \"reltype\"))\n",
    "toAddressEdgeTypeFrame = pd.DataFrame(getEdgeInfo(toAddressEdgeList,\"reltype\"))\n",
    "#then get their address type count frames\n",
    "fromAddressEdgeTypeCountFrame = fromAddressEdgeTypeFrame.groupby(\"reltype\",\n",
    "                                            as_index = False)[\"edgeID\"].count()\n",
    "toAddressEdgeTypeCountFrame = toAddressEdgeTypeFrame.groupby(\"reltype\",\n",
    "                                            as_index = False)[\"edgeID\"].count()\n",
    "#then format those tables for viewing\n",
    "fromAddressEdgeTypeCountFrame = fromAddressEdgeTypeCountFrame.rename(columns =\n",
    "                                                {\"reltype\":\"Edge Type\",\n",
    "                                                 \"edgeID\":\"Count\"})\n",
    "toAddressEdgeTypeCountFrame = toAddressEdgeTypeCountFrame.rename(columns = {\n",
    "                                                \"reltype\":\"Edge Type\",\n",
    "                                                \"edgeID\":\"Count\"})\n",
    "#then display\n",
    "display(HTML(fromAddressEdgeTypeCountFrame.to_html(index = False)))"
   ]
  },
  {
   "cell_type": "markdown",
   "metadata": {},
   "source": [
    "_Table 1: Edge type distribution for edges coming from addresses._"
   ]
  },
  {
   "cell_type": "code",
   "execution_count": 26,
   "metadata": {
    "collapsed": false
   },
   "outputs": [
    {
     "data": {
      "text/html": [
       "<table border=\"1\" class=\"dataframe\">\n",
       "  <thead>\n",
       "    <tr style=\"text-align: right;\">\n",
       "      <th>Edge Type</th>\n",
       "      <th>Count</th>\n",
       "    </tr>\n",
       "  </thead>\n",
       "  <tbody>\n",
       "    <tr>\n",
       "      <td>registered address</td>\n",
       "      <td>317029</td>\n",
       "    </tr>\n",
       "    <tr>\n",
       "      <td>same address as</td>\n",
       "      <td>965</td>\n",
       "    </tr>\n",
       "  </tbody>\n",
       "</table>"
      ],
      "text/plain": [
       "<IPython.core.display.HTML object>"
      ]
     },
     "metadata": {},
     "output_type": "display_data"
    }
   ],
   "source": [
    "display(HTML(toAddressEdgeTypeCountFrame.to_html(index = False)))"
   ]
  },
  {
   "cell_type": "markdown",
   "metadata": {},
   "source": [
    "_Table 2: Edge type distribution for edges going to addresses._\n",
    "\n",
    "We see that addresses carry very little meaning, as most edges going to addresses simply represent registered addresses of other agents in our network, and all edges coming from networks are simply disambiguation measures (\"same address as\"). If we were interested in performing a full disambiguation on this network, some of these measures may be meaningful for studying potential paper trails between unlikely agents. However, because disambiguation is out of the scope of this current project, it seems even more reasonable to remove addresses from the network."
   ]
  },
  {
   "cell_type": "code",
   "execution_count": 33,
   "metadata": {
    "collapsed": false
   },
   "outputs": [],
   "source": [
    "#remove addresses\n",
    "addressList = []\n",
    "for node in complicatedNet.nodes(data = True):\n",
    "    if (node[1][\"entType\"] == \"Addresses\"):\n",
    "        addressList.append(node[0])\n",
    "#then remove\n",
    "complicatedNet.remove_nodes_from(addressList)"
   ]
  },
  {
   "cell_type": "code",
   "execution_count": 37,
   "metadata": {
    "collapsed": false
   },
   "outputs": [],
   "source": [
    "#just a check on the number of nodes and edges now in the network\n",
    "newNumNodes = len(complicatedNet.nodes())\n",
    "newNumEdges = len(complicatedNet.edges())\n",
    "#get percent reduction\n",
    "percentMul = 100\n",
    "percentReductionInNodes = (float(numNodes - newNumNodes)/numNodes) * percentMul\n",
    "percentReductionInEdges = (float(numEdges - newNumEdges)/numEdges) * percentMul"
   ]
  },
  {
   "cell_type": "markdown",
   "metadata": {
    "variables": {
     "newNumEdges": "1074102",
     "newNumNodes": "888932",
     "percentReductionInEdges": "22.84282118474588",
     "percentReductionInNodes": "14.569880744269545"
    }
   },
   "source": [
    "We see that the new number of nodes and the new number of edges after the reduction are both {{newNumNodes}} and {{newNumEdges}}. This node reduction reduced the number of nodes in our network by {{percentReductionInNodes}}% and reduced the number of edges in our network by {{percentReductionInEdges}}%. These are sizable reduction, but this in essence gives us  a much easier network to work with.\n",
    "\n",
    "Let us look at our agent type distribution after this reduction. Most of the code below is taken [from my initial analysis notebook](initialAnalysis.ipynb)."
   ]
  },
  {
   "cell_type": "code",
   "execution_count": 38,
   "metadata": {
    "collapsed": true
   },
   "outputs": [],
   "source": [
    "#get information by category on nodes\n",
    "#code taken from initialAnalysis.ipynb\n",
    "def getNodeInfo(nodeVec,keyName):\n",
    "    #helper for returning a list of node information over the whole list of\n",
    "    #nodes\n",
    "    nodeInfoDict = {\"nodeID\":[],keyName:[]}\n",
    "    for nodeTup in nodeVec:\n",
    "        #0th entry is ID\n",
    "        nodeInfoDict[\"nodeID\"].append(nodeTup[0])\n",
    "        #then get key info\n",
    "        givenNodeDict = nodeTup[1]\n",
    "        nodeInfoDict[keyName].append(givenNodeDict[keyName])\n",
    "    return nodeInfoDict\n",
    "#then make data frame of information\n",
    "nodeVec = complicatedNet.nodes(data = True)\n",
    "nodeEntFrame = pd.DataFrame(getNodeInfo(nodeVec,\"entType\"))"
   ]
  },
  {
   "cell_type": "code",
   "execution_count": 41,
   "metadata": {
    "collapsed": false
   },
   "outputs": [
    {
     "data": {
      "text/plain": [
       "<matplotlib.text.Text at 0x1210cced0>"
      ]
     },
     "execution_count": 41,
     "metadata": {},
     "output_type": "execute_result"
    },
    {
     "data": {
      "image/png": "[encoded data removed]",
      "text/plain": [
       "<matplotlib.figure.Figure at 0x11323bdd0>"
      ]
     },
     "metadata": {},
     "output_type": "display_data"
    }
   ],
   "source": [
    "#then get entity distribution\n",
    "entCountFrame = nodeEntFrame.groupby(\"entType\",\n",
    "                                     as_index = False)[\"nodeID\"].count()\n",
    "entCountFrame = entCountFrame.rename(columns = {\"nodeID\":\"count\"})\n",
    "entCountFrame[\"density\"] = entCountFrame[\"count\"] / sum(entCountFrame[\"count\"])\n",
    "#then plot\n",
    "givenFig = plt.figure(figsize = (figWidth,figHeight))\n",
    "sns.barplot(x = \"entType\",y = \"density\",data = entCountFrame)\n",
    "plt.xlabel(\"Agent Type\")\n",
    "plt.ylabel(\"Density\")\n",
    "plt.title(\"Distribution of Agent Type\")"
   ]
  },
  {
   "cell_type": "markdown",
   "metadata": {},
   "source": [
    "_Figure 1: Distribution of Agent Type on the network after our node reduction._\n",
    "\n",
    "We see that entities make up a large portion of the agent type distribution, with officers coming a close second. Again, intermediaries represent an extremely small part of the network, but it is likely that even after our edge reduction and simplifications that intermediaries will still have extremely high degree in this network.\n",
    "\n",
    "## Edge Reduction\n",
    "\n",
    "We will start with finding out how to reduce edges that may not matter in the questions that we have about stakeholders. Thus, we will first start by analyzing the rank distribution of edge types after our previous node reduction and our disambiguation reductions [that we did in our initial analysis](initialAnalysis.ipynb)."
   ]
  },
  {
   "cell_type": "code",
   "execution_count": 44,
   "metadata": {
    "collapsed": false,
    "run_control": {
     "marked": true
    }
   },
   "outputs": [],
   "source": [
    "#get list of edges\n",
    "edgeVec = complicatedNet.edges(data = True)\n",
    "edgeTypeFrame = pd.DataFrame(getEdgeInfo(edgeVec,\"reltype\"))\n",
    "#then reduce to grouping\n",
    "edgeTypeCountFrame = edgeTypeFrame.groupby(\"reltype\",as_index = False)[\n",
    "                                \"edgeID\"].count()\n",
    "#then rename some information\n",
    "edgeTypeCountFrame = edgeTypeCountFrame.rename(columns = {\"edgeID\":\"count\"})\n",
    "#then make density\n",
    "edgeTypeCountFrame[\"density\"] = (edgeTypeCountFrame[\"count\"] \n",
    "                                 / np.sum(edgeTypeCountFrame[\"count\"]))\n",
    "#order by density\n",
    "edgeTypeCountFrame = edgeTypeCountFrame.sort_values(\"density\",ascending = False)"
   ]
  },
  {
   "cell_type": "code",
   "execution_count": 60,
   "metadata": {
    "collapsed": false
   },
   "outputs": [
    {
     "name": "stdout",
     "output_type": "stream",
     "text": [
      "0.981814542408\n"
     ]
    },
    {
     "data": {
      "image/png": "[encoded data removed]",
      "text/plain": [
       "<matplotlib.figure.Figure at 0x1be8bf790>"
      ]
     },
     "metadata": {},
     "output_type": "display_data"
    }
   ],
   "source": [
    "#then plot by rank\n",
    "edgeTypeCountFrame[\"rank\"] = range(edgeTypeCountFrame.shape[0])\n",
    "edgeTypeCountFrame[\"logRank\"] = np.log(edgeTypeCountFrame[\"rank\"] + 1)\n",
    "givenFig = plt.figure(figsize = (figWidth,figHeight))\n",
    "plt.plot(edgeTypeCountFrame[\"logRank\"],edgeTypeCountFrame[\"density\"])\n",
    "plt.xlabel(\"Log(Rank)\")\n",
    "plt.ylabel(\"Density\")\n",
    "plt.title(\"Density on Log(Rank)\")"
   ]
  },
  {
   "cell_type": "markdown",
   "metadata": {},
   "source": [
    "_Figure 2: Distribution of edge types by $\\log(Rank).$_\n",
    "\n",
    "It is apparent that we now have an extremely skewed distribution, where it takes around $e^2 \\approx 7$ of the top edge types to represent most of the distribution. Let us see the names of the top edge types."
   ]
  },
  {
   "cell_type": "code",
   "execution_count": 61,
   "metadata": {
    "collapsed": false
   },
   "outputs": [
    {
     "data": {
      "text/plain": [
       "<matplotlib.text.Text at 0x1bb3c6c90>"
      ]
     },
     "execution_count": 61,
     "metadata": {},
     "output_type": "execute_result"
    },
    {
     "data": {
      "image/png": "[encoded data removed]",
      "text/plain": [
       "<matplotlib.figure.Figure at 0x19152ee10>"
      ]
     },
     "metadata": {},
     "output_type": "display_data"
    }
   ],
   "source": [
    "topLev = 10\n",
    "topTenEdgeTypes = edgeTypeCountFrame.iloc[0:topLev,:]\n",
    "#plot it\n",
    "givenFig = plt.figure(figsize = (figWidth,figHeight))\n",
    "sns.barplot(y = \"reltype\",x = \"density\",data = topTenEdgeTypes,orient = \"h\")\n",
    "plt.xlabel(\"Density\")\n",
    "plt.ylabel(\"Edge Type\")\n",
    "plt.title(\"Distribution of Top 10 Edge Types\")"
   ]
  },
  {
   "cell_type": "markdown",
   "metadata": {},
   "source": [
    "_Figure 3: Distribution of top $10$ edge types by density._\n",
    "\n",
    "We see that there are a few edges in the top 10 edge types that represent disambiguation categories, such as \"same name and registration date as.\" While I am skeptical of \"records & registers of\" as a non-disambiguation feature, it seems as though it represents meaningful connections from cursory glance. Thus, I will include it as a non-disambiguation feature, although I will contact representatives from [ICIJ](https://www.icij.org) for details on this relationship.\n",
    "\n",
    "Let us see how much the top 10 edge types cover the distribution after we remove the \"same name and registration date as\" from the distribution."
   ]
  },
  {
   "cell_type": "code",
   "execution_count": 98,
   "metadata": {
    "collapsed": false
   },
   "outputs": [],
   "source": [
    "#remove index form \"same name and registration date as\"\n",
    "registrationDateInd = 221\n",
    "#edgeTypeCountFrame = edgeTypeCountFrame.drop(registrationDateInd)\n",
    "#recalculate density\n",
    "edgeTypeCountFrame[\"density\"] = (edgeTypeCountFrame[\"count\"] \n",
    "                                 / np.sum(edgeTypeCountFrame[\"count\"]))\n",
    "#order by density and recalculate rank\n",
    "edgeTypeCountFrame = edgeTypeCountFrame.sort_values(\"density\",ascending = False)\n",
    "edgeTypeCountFrame[\"rank\"] = range(edgeTypeCountFrame.shape[0])\n",
    "edgeTypeCountFrame[\"logRank\"] = np.log(edgeTypeCountFrame[\"rank\"] + 1)\n",
    "#then see what is the sum of the top ten relation types\n",
    "propTopTen = sum(edgeTypeCountFrame[\"density\"].iloc[0:topLev])\n",
    "percentTopTen = propTopTen * percentMul"
   ]
  },
  {
   "cell_type": "markdown",
   "metadata": {
    "variables": {
     "int(np.round((1 - propTopTen) * len(edgeVec)))": "17041",
     "percentTopTen": "98.413470606580674"
    }
   },
   "source": [
    "We see that when removing our disambiguation edge type from our distribution, our top ten edge types take us {{percentTopTen}}% of the edges in the network. While this is a big percentage, this still leaves out around {{int(np.round((1 - propTopTen) * len(edgeVec)))}} of the edges from the network, which is still more than I would prefer. Let us see what the top $20$ edge types look like."
   ]
  },
  {
   "cell_type": "code",
   "execution_count": 103,
   "metadata": {
    "collapsed": false
   },
   "outputs": [
    {
     "data": {
      "text/html": [
       "<table border=\"1\" class=\"dataframe\">\n",
       "  <thead>\n",
       "    <tr style=\"text-align: right;\">\n",
       "      <th>Edge Type</th>\n",
       "      <th>count</th>\n",
       "    </tr>\n",
       "  </thead>\n",
       "  <tbody>\n",
       "    <tr>\n",
       "      <td>intermediary of</td>\n",
       "      <td>492086</td>\n",
       "    </tr>\n",
       "    <tr>\n",
       "      <td>shareholder of</td>\n",
       "      <td>361020</td>\n",
       "    </tr>\n",
       "    <tr>\n",
       "      <td>director of</td>\n",
       "      <td>91628</td>\n",
       "    </tr>\n",
       "    <tr>\n",
       "      <td>records &amp; registers of</td>\n",
       "      <td>36315</td>\n",
       "    </tr>\n",
       "    <tr>\n",
       "      <td>director</td>\n",
       "      <td>19114</td>\n",
       "    </tr>\n",
       "    <tr>\n",
       "      <td>beneficiary of</td>\n",
       "      <td>18627</td>\n",
       "    </tr>\n",
       "    <tr>\n",
       "      <td>same company as</td>\n",
       "      <td>15523</td>\n",
       "    </tr>\n",
       "    <tr>\n",
       "      <td>secretary of</td>\n",
       "      <td>11590</td>\n",
       "    </tr>\n",
       "    <tr>\n",
       "      <td>secretary</td>\n",
       "      <td>5518</td>\n",
       "    </tr>\n",
       "    <tr>\n",
       "      <td>director / president</td>\n",
       "      <td>2542</td>\n",
       "    </tr>\n",
       "    <tr>\n",
       "      <td>director / secretary</td>\n",
       "      <td>1887</td>\n",
       "    </tr>\n",
       "    <tr>\n",
       "      <td>beneficial owner of</td>\n",
       "      <td>1462</td>\n",
       "    </tr>\n",
       "    <tr>\n",
       "      <td>trustee of trust of</td>\n",
       "      <td>1407</td>\n",
       "    </tr>\n",
       "    <tr>\n",
       "      <td>Nominee Shareholder of</td>\n",
       "      <td>1130</td>\n",
       "    </tr>\n",
       "    <tr>\n",
       "      <td>authorised person / signatory of</td>\n",
       "      <td>1091</td>\n",
       "    </tr>\n",
       "    <tr>\n",
       "      <td>protector of</td>\n",
       "      <td>873</td>\n",
       "    </tr>\n",
       "    <tr>\n",
       "      <td>officer</td>\n",
       "      <td>863</td>\n",
       "    </tr>\n",
       "    <tr>\n",
       "      <td>president</td>\n",
       "      <td>861</td>\n",
       "    </tr>\n",
       "    <tr>\n",
       "      <td>trust settlor of</td>\n",
       "      <td>845</td>\n",
       "    </tr>\n",
       "    <tr>\n",
       "      <td>assistant secretary</td>\n",
       "      <td>718</td>\n",
       "    </tr>\n",
       "  </tbody>\n",
       "</table>"
      ],
      "text/plain": [
       "<IPython.core.display.HTML object>"
      ]
     },
     "metadata": {},
     "output_type": "display_data"
    }
   ],
   "source": [
    "topLev = 20\n",
    "topTwentyEdgeTypes = edgeTypeCountFrame.loc[:,[\"reltype\",\"count\"]].iloc[\n",
    "                                                    0:topLev]\n",
    "topTwentyEdgeTypes = topTwentyEdgeTypes.rename(\n",
    "                                            columns = {\"reltype\":\"Edge Type\"})\n",
    "display(HTML(topTwentyEdgeTypes.to_html(index = False)))\n",
    "#then get sum of these densities\n",
    "propTopTwenty = sum(edgeTypeCountFrame[\"density\"].iloc[0:topLev])\n",
    "percentTopTwenty = propTopTwenty * percentMul"
   ]
  },
  {
   "cell_type": "markdown",
   "metadata": {},
   "source": [
    "_Table 3: Top twenty edgy types along with their counts in our dataset._\n",
    "\n",
    "As we can see, every single one of these represents a stakeholder relationship, i.e. \"does business with\" the other individual."
   ]
  }
 ],
 "metadata": {
  "kernelspec": {
   "display_name": "Python 2",
   "language": "python",
   "name": "python2"
  },
  "language_info": {
   "codemirror_mode": {
    "name": "ipython",
    "version": 2
   },
   "file_extension": ".py",
   "mimetype": "text/x-python",
   "name": "python",
   "nbconvert_exporter": "python",
   "pygments_lexer": "ipython2",
   "version": "2.7.10"
  },
  "latex_envs": {
   "bibliofile": "biblio.bib",
   "cite_by": "apalike",
   "current_citInitial": 1,
   "eqLabelWithNumbers": true,
   "eqNumInitial": 0
  },
  "nav_menu": {},
  "toc": {
   "navigate_menu": true,
   "number_sections": true,
   "sideBar": true,
   "threshold": 6,
   "toc_cell": false,
   "toc_section_display": "block",
   "toc_window_display": false
  }
 },
 "nbformat": 4,
 "nbformat_minor": 1
}
