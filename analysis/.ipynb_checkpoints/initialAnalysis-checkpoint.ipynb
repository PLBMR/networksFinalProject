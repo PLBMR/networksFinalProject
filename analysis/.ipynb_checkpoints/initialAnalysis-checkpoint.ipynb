{
 "cells": [
  {
   "cell_type": "markdown",
   "metadata": {},
   "source": [
    "# Networks Final Project: Initial Analysis"
   ]
  },
  {
   "cell_type": "code",
   "execution_count": 28,
   "metadata": {
    "collapsed": true
   },
   "outputs": [],
   "source": [
    "#imports\n",
    "import networkx as nx\n",
    "import matplotlib.pyplot as plt\n",
    "import seaborn as sns\n",
    "import numpy as np\n",
    "import pandas as pd\n",
    "\n",
    "#constants\n",
    "%matplotlib inline\n",
    "sigLev = 3\n",
    "figWidth = figHeight = 5"
   ]
  },
  {
   "cell_type": "markdown",
   "metadata": {},
   "source": [
    "In this notebook, I will initially begin to analyze the Offshore Leaks Database network."
   ]
  },
  {
   "cell_type": "code",
   "execution_count": null,
   "metadata": {
    "collapsed": false
   },
   "outputs": [],
   "source": [
    "#load in the dataset\n",
    "fullNetwork = nx.read_gpickle(\"../data/processed/fullNetwork.pkl\")"
   ]
  },
  {
   "cell_type": "markdown",
   "metadata": {
    "collapsed": false
   },
   "source": [
    "## Summary Statistics\n",
    "\n",
    "We will begin by getting some general summary statistics on the network in terms of nodes, edges, and general network information.\n",
    "\n",
    "### Node Information"
   ]
  },
  {
   "cell_type": "code",
   "execution_count": 19,
   "metadata": {
    "collapsed": true
   },
   "outputs": [],
   "source": [
    "numNodes = len(fullNetwork.nodes())"
   ]
  },
  {
   "cell_type": "markdown",
   "metadata": {
    "variables": {
     "numNodes": "18700"
    }
   },
   "source": [
    "We see that there are {{numNodes}} nodes in this network."
   ]
  },
  {
   "cell_type": "code",
   "execution_count": 31,
   "metadata": {
    "collapsed": false
   },
   "outputs": [
    {
     "name": "stdout",
     "output_type": "stream",
     "text": [
      "          entType  nodeID\n",
      "0       Addresses    6861\n",
      "1        Entities    3086\n",
      "2  Intermediaries    1422\n",
      "3        Officers    7331\n"
     ]
    }
   ],
   "source": [
    "#make function for getting information about particular nodes\n",
    "def getNodeInfo(nodeVec,keyName):\n",
    "    #helper for returning a list of node information over the whole list of\n",
    "    #nodes\n",
    "    nodeInfoDict = {\"nodeID\":[],keyName:[]}\n",
    "    for nodeTup in nodeVec:\n",
    "        #0th entry is ID\n",
    "        nodeInfoDict[\"nodeID\"].append(nodeTup[0])\n",
    "        #then get key info\n",
    "        givenNodeDict = nodeTup[1]\n",
    "        nodeInfoDict[keyName].append(givenNodeDict[keyName])\n",
    "    return nodeInfoDict\n",
    "#then make data frame of information\n",
    "nodeVec = usaNetwork.nodes(data = True)\n",
    "nodeEntFrame = pd.DataFrame(getNodeInfo(nodeVec,\"entType\"))\n",
    "entCountFrame = nodeEntFrame.groupby(\"entType\",\n",
    "                                     as_index = False)[\"nodeID\"].count()\n",
    "print entCountFrame"
   ]
  },
  {
   "cell_type": "code",
   "execution_count": null,
   "metadata": {
    "collapsed": true
   },
   "outputs": [],
   "source": []
  }
 ],
 "metadata": {
  "kernelspec": {
   "display_name": "Python 2",
   "language": "python",
   "name": "python2"
  },
  "language_info": {
   "codemirror_mode": {
    "name": "ipython",
    "version": 2
   },
   "file_extension": ".py",
   "mimetype": "text/x-python",
   "name": "python",
   "nbconvert_exporter": "python",
   "pygments_lexer": "ipython2",
   "version": "2.7.10"
  },
  "nav_menu": {},
  "toc": {
   "navigate_menu": true,
   "number_sections": true,
   "sideBar": true,
   "threshold": 6,
   "toc_cell": false,
   "toc_section_display": "block",
   "toc_window_display": false
  }
 },
 "nbformat": 4,
 "nbformat_minor": 0
}
