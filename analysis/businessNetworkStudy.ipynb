{
 "cells": [
  {
   "cell_type": "markdown",
   "metadata": {},
   "source": [
    "# Business Network Study\n",
    "\n",
    "In this notebook, I look for ways to simplify the current cleaned network with multiple edge types into a network of a single canonical edge-type, or perhaps a network with only a few edge types."
   ]
  },
  {
   "cell_type": "code",
   "execution_count": 4,
   "metadata": {
    "collapsed": false
   },
   "outputs": [],
   "source": [
    "#imports\n",
    "import pandas as pd\n",
    "import networkx as nx\n",
    "import matplotlib.pyplot as plt\n",
    "import seaborn as sns\n",
    "import numpy as np\n",
    "\n",
    "#constants\n",
    "%matplotlib inline\n",
    "sns.set_style(\"dark\")\n",
    "sigLev = 3\n",
    "figWidth = figHeight = 8"
   ]
  },
  {
   "cell_type": "markdown",
   "metadata": {},
   "source": [
    "Let us load in ``../data/processed/cleanedNetwork.pkl`` for creating the does business with network. This requires careful reduction and simplification in node types and edge types."
   ]
  },
  {
   "cell_type": "code",
   "execution_count": 5,
   "metadata": {
    "collapsed": true
   },
   "outputs": [],
   "source": [
    "complicatedNet = nx.read_gpickle(\"../data/processed/cleanedNetwork.pkl\")"
   ]
  },
  {
   "cell_type": "code",
   "execution_count": 6,
   "metadata": {
    "collapsed": true
   },
   "outputs": [],
   "source": [
    "#get some quick metrics on this network\n",
    "numNodes = len(complicatedNet.nodes())\n",
    "numEdges = len(complicatedNet.edges())"
   ]
  },
  {
   "cell_type": "markdown",
   "metadata": {
    "variables": {
     "numEdges": "1392096",
     "numNodes": "1040537"
    }
   },
   "source": [
    "We see that there are {{numNodes}} nodes and {{numEdges}} edges in this network. Note that this network is currently directed, and thus represent a set of directed relationships. This network also contains 4 different types of agents, as outlined in the [ICIJ terms and definitions section for the Offshore Leaks Database](https://offshoreleaks.icij.org/pages/about#terms_definition). Given the many different types of agents and relationships presented in this network, we need to spend some time finding how we can simplify this network.\n",
    "\n",
    "The key components we are interested in for our analysis is:\n",
    "\n",
    "* Agents that represent meaningful stakeholders. This means that we should really be considering those people who are financially obligated in the network, and remove agents (such as addresses) that don't represent meaningful financial actors.\n",
    "\n",
    "* We should remove relationships that do not involve fiscal or business-wise obligations. Given that we are interested in the social capital created by the use of tax havens in the Global 1%, it is essential that we capture relationships that create the social capital involved in dealings with tax havens. This means relationships that do not represent fiscal or business-wise obligations will not have relevance when defining social capital within this network.\n",
    "\n",
    "* We should look to simplify most of these relationships into simple categories. In order to allow for strong interpretability of the metrics on our analysis, having one or two simple relationships can help us with achieving this goal.\n",
    "\n",
    "Let us begin our reductions and simplifications on this network.\n",
    "\n",
    "## Node Reduction\n",
    "\n",
    "As discussed in our [Initial Analysis Notebook](initialAnalysis.ipynb), close to 15% of the nodes in this network are addresses (see Initial Analysis Notebook, Figure 1). I would argue that these nodes do not represent financial actors and are more focused on locational paper trails. That being said, before we remove them, Let us see the kind of relationships associated with edges coming from address nodes and edges going to address nodes."
   ]
  },
  {
   "cell_type": "code",
   "execution_count": 7,
   "metadata": {
    "collapsed": true
   },
   "outputs": [],
   "source": [
    "#get edges from addresses\n",
    "fromAddressEdgeList = []\n",
    "toAddressEdgeList = []\n",
    "for edge in complicatedNet.edges(data = True):\n",
    "    #get from and to nodes\n",
    "    fromNode = edge[0]\n",
    "    toNode = edge[1]\n",
    "    #then get information on those nodes\n",
    "    fromNodeType = complicatedNet.node[fromNode][\"entType\"]\n",
    "    toNodeType = complicatedNet.node[toNode][\"entType\"]\n",
    "    #check type\n",
    "    if (fromNodeType == \"Addresses\"):\n",
    "        fromAddressEdgeList.append(edge)\n",
    "    if (toNodeType == \"Addresses\"):\n",
    "        toAddressEdgeList.append(edge)"
   ]
  },
  {
   "cell_type": "code",
   "execution_count": 10,
   "metadata": {
    "collapsed": false
   },
   "outputs": [
    {
     "name": "stdout",
     "output_type": "stream",
     "text": [
      "          edgeID             reltype\n",
      "0       12159126  registered address\n",
      "1       12217560  registered address\n",
      "2       12220713  registered address\n",
      "3       12133427  registered address\n",
      "4       12220732  registered address\n",
      "5       12191415  registered address\n",
      "6       12131192  registered address\n",
      "7       10044619  registered address\n",
      "8       12153542  registered address\n",
      "9       12158567  registered address\n",
      "10      12159130  registered address\n",
      "11      12203929  registered address\n",
      "12      12133992  registered address\n",
      "13      12153545  registered address\n",
      "14      12159132  registered address\n",
      "15      12153546  registered address\n",
      "16      12133994  registered address\n",
      "17      12133987  registered address\n",
      "18      12153540  registered address\n",
      "19      12133995  registered address\n",
      "20      12153548  registered address\n",
      "21      12133996  registered address\n",
      "22      12153549  registered address\n",
      "23      12159136  registered address\n",
      "24      12133997  registered address\n",
      "25      12164771  registered address\n",
      "26      12153550  registered address\n",
      "27      12159137  registered address\n",
      "28      12164776  registered address\n",
      "29      12206677  registered address\n",
      "...          ...                 ...\n",
      "317964  12122809  registered address\n",
      "317965  12150807  registered address\n",
      "317966  12150808  registered address\n",
      "317967  12220641  registered address\n",
      "317968  12150809  registered address\n",
      "317969  12159124  registered address\n",
      "317970  12136776  registered address\n",
      "317971  12150810  registered address\n",
      "317972  12209403  registered address\n",
      "317973  12150811  registered address\n",
      "317974  12122810  registered address\n",
      "317975  12150812  registered address\n",
      "317976  12220645  registered address\n",
      "317977  12150813  registered address\n",
      "317978  12150814  registered address\n",
      "317979  12220647  registered address\n",
      "317980  12150815  registered address\n",
      "317981  12150816  registered address\n",
      "317982  12122811  registered address\n",
      "317983  12150817  registered address\n",
      "317984  10136209  registered address\n",
      "317985  12136778  registered address\n",
      "317986  12150820  registered address\n",
      "317987  12220653  registered address\n",
      "317988  12150821  registered address\n",
      "317989  12133985  registered address\n",
      "317990  12122812  registered address\n",
      "317991  12150822  registered address\n",
      "317992  12150823  registered address\n",
      "317993  12153538  registered address\n",
      "\n",
      "[317994 rows x 2 columns]\n"
     ]
    }
   ],
   "source": [
    "#function to get edge category frames\n",
    "#taken from initialAnalysis.ipynb\n",
    "def getEdgeInfo(edgeVec,keyName):\n",
    "    #helper for returning a list of edge information over the whole list of\n",
    "    #edges\n",
    "    edgeInfoDict = {\"edgeID\":[],keyName:[]}\n",
    "    for edgeTup in edgeVec:\n",
    "        #0th entry is ID\n",
    "        edgeInfoDict[\"edgeID\"].append(edgeTup[0])\n",
    "        #then get key info\n",
    "        givenEdgeDict = edgeTup[2]\n",
    "        edgeInfoDict[keyName].append(givenEdgeDict[keyName])\n",
    "    return edgeInfoDict\n",
    "#then get our edge type frames\n",
    "fromAddressEdgeTypeFrame = pd.DataFrame(getEdgeInfo(fromAddressEdgeList,\n",
    "                                                    \"reltype\"))\n",
    "toAddressEdgeTypeFrame = pd.DataFrame(getEdgeInfo(toAddressEdgeList,\"reltype\"))"
   ]
  },
  {
   "cell_type": "code",
   "execution_count": null,
   "metadata": {
    "collapsed": true
   },
   "outputs": [],
   "source": []
  }
 ],
 "metadata": {
  "kernelspec": {
   "display_name": "Python 2",
   "language": "python",
   "name": "python2"
  },
  "language_info": {
   "codemirror_mode": {
    "name": "ipython",
    "version": 2
   },
   "file_extension": ".py",
   "mimetype": "text/x-python",
   "name": "python",
   "nbconvert_exporter": "python",
   "pygments_lexer": "ipython2",
   "version": "2.7.10"
  },
  "latex_envs": {
   "bibliofile": "biblio.bib",
   "cite_by": "apalike",
   "current_citInitial": 1,
   "eqLabelWithNumbers": true,
   "eqNumInitial": 0
  },
  "nav_menu": {},
  "toc": {
   "navigate_menu": true,
   "number_sections": true,
   "sideBar": true,
   "threshold": 6,
   "toc_cell": false,
   "toc_section_display": "block",
   "toc_window_display": false
  }
 },
 "nbformat": 4,
 "nbformat_minor": 1
}
