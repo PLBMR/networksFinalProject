{
 "cells": [
  {
   "cell_type": "markdown",
   "metadata": {},
   "source": [
    "# Networks Final Project: Initial Analysis"
   ]
  },
  {
   "cell_type": "code",
   "execution_count": 41,
   "metadata": {
    "collapsed": true
   },
   "outputs": [],
   "source": [
    "#imports\n",
    "import networkx as nx\n",
    "import matplotlib.pyplot as plt\n",
    "import seaborn as sns\n",
    "import numpy as np\n",
    "import pandas as pd\n",
    "\n",
    "#constants\n",
    "%matplotlib inline\n",
    "sns.set_style(\"dark\")\n",
    "sigLev = 3\n",
    "figWidth = figHeight = 8"
   ]
  },
  {
   "cell_type": "markdown",
   "metadata": {},
   "source": [
    "In this notebook, I will initially begin to analyze the Offshore Leaks Database network."
   ]
  },
  {
   "cell_type": "code",
   "execution_count": 32,
   "metadata": {
    "collapsed": false
   },
   "outputs": [],
   "source": [
    "#load in the dataset\n",
    "fullNetwork = nx.read_gpickle(\"../data/processed/fullNetwork.pkl\")"
   ]
  },
  {
   "cell_type": "markdown",
   "metadata": {
    "collapsed": false
   },
   "source": [
    "## Summary Statistics\n",
    "\n",
    "We will begin by getting some general summary statistics on the network in terms of nodes, edges, and general network information.\n",
    "\n",
    "### Node Information"
   ]
  },
  {
   "cell_type": "code",
   "execution_count": 33,
   "metadata": {
    "collapsed": true
   },
   "outputs": [],
   "source": [
    "numNodes = len(fullNetwork.nodes())"
   ]
  },
  {
   "cell_type": "markdown",
   "metadata": {
    "variables": {
     "numNodes": "1040537"
    }
   },
   "source": [
    "We see that there are {{numNodes}} nodes in this network."
   ]
  },
  {
   "cell_type": "code",
   "execution_count": 36,
   "metadata": {
    "collapsed": false
   },
   "outputs": [],
   "source": [
    "#make function for getting information about particular nodes\n",
    "def getNodeInfo(nodeVec,keyName):\n",
    "    #helper for returning a list of node information over the whole list of\n",
    "    #nodes\n",
    "    nodeInfoDict = {\"nodeID\":[],keyName:[]}\n",
    "    for nodeTup in nodeVec:\n",
    "        #0th entry is ID\n",
    "        nodeInfoDict[\"nodeID\"].append(nodeTup[0])\n",
    "        #then get key info\n",
    "        givenNodeDict = nodeTup[1]\n",
    "        nodeInfoDict[keyName].append(givenNodeDict[keyName])\n",
    "    return nodeInfoDict\n",
    "#then make data frame of information\n",
    "nodeVec = fullNetwork.nodes(data = True)\n",
    "nodeEntFrame = pd.DataFrame(getNodeInfo(nodeVec,\"entType\"))\n",
    "nodeCountryFrame = pd.DataFrame(getNodeInfo(nodeVec,\"countrycodes\"))"
   ]
  },
  {
   "cell_type": "code",
   "execution_count": 44,
   "metadata": {
    "collapsed": false
   },
   "outputs": [
    {
     "data": {
      "text/plain": [
       "<matplotlib.text.Text at 0x10d23a590>"
      ]
     },
     "execution_count": 44,
     "metadata": {},
     "output_type": "execute_result"
    },
    {
     "data": {
      "image/png": "[encoded data removed]",
      "text/plain": [
       "<matplotlib.figure.Figure at 0x10d028110>"
      ]
     },
     "metadata": {},
     "output_type": "display_data"
    }
   ],
   "source": [
    "#then get entity distribution\n",
    "entCountFrame = nodeEntFrame.groupby(\"entType\",\n",
    "                                     as_index = False)[\"nodeID\"].count()\n",
    "entCountFrame = entCountFrame.rename(columns = {\"nodeID\":\"count\"})\n",
    "entCountFrame[\"density\"] = entCountFrame[\"count\"] / sum(entCountFrame[\"count\"])\n",
    "#then plot\n",
    "givenFig = plt.figure(figsize = (figWidth,figHeight))\n",
    "sns.barplot(x = \"entType\",y = \"density\",data = entCountFrame)\n",
    "plt.xlabel(\"Agent Type\")\n",
    "plt.ylabel(\"Density\")\n",
    "plt.title(\"Distribution of Agent Type\")"
   ]
  },
  {
   "cell_type": "markdown",
   "metadata": {},
   "source": [
    "_Figure 1: Distribution of Agent Type._\n",
    "\n",
    "We see that entities and officers make up a significant portion of the dataset. Interestingly, there are more entities than officers, which suggests that these dealings are very slim in terms of head count and tend to feature many different entities at once. Interestingly, Intermediaries take up a very small portion of the dataset. That being said, given my [original analysis for my proposal](../proposal/finalProjectProposal.pdf), it is likely that these intermediaries will play a very important part in the network."
   ]
  },
  {
   "cell_type": "code",
   "execution_count": 49,
   "metadata": {
    "collapsed": false
   },
   "outputs": [],
   "source": [
    "countryCountFrame = nodeCountryFrame.groupby(\"countrycodes\",\n",
    "                                             as_index = False)[\"nodeID\"].count()\n",
    "countryCountFrame = countryCountFrame.rename(columns =\n",
    "                                             {\"countrycodes\":\"countryCode\",\n",
    "                                              \"nodeID\":\"count\"})\n",
    "countryCountFrame = countryCountFrame.sort_values(\"count\",ascending = False)\n",
    "numCountryCodes = countryCountFrame.shape[0]"
   ]
  },
  {
   "cell_type": "markdown",
   "metadata": {
    "variables": {
     "numCountryCodes": "716"
    }
   },
   "source": [
    "We see that there are {{numCountryCodes}} country codes represented in this dataset. Note that this is not necessarily"
   ]
  },
  {
   "cell_type": "markdown",
   "metadata": {},
   "source": [
    "TODO:\n",
    "\n",
    "* Fix link under Figure 1.\n",
    "* Find out what \"XXX\" and \";\" mean for a particular node's country code"
   ]
  },
  {
   "cell_type": "code",
   "execution_count": null,
   "metadata": {
    "collapsed": true
   },
   "outputs": [],
   "source": []
  }
 ],
 "metadata": {
  "kernelspec": {
   "display_name": "Python 2",
   "language": "python",
   "name": "python2"
  },
  "language_info": {
   "codemirror_mode": {
    "name": "ipython",
    "version": 2
   },
   "file_extension": ".py",
   "mimetype": "text/x-python",
   "name": "python",
   "nbconvert_exporter": "python",
   "pygments_lexer": "ipython2",
   "version": "2.7.10"
  },
  "nav_menu": {},
  "toc": {
   "navigate_menu": true,
   "number_sections": true,
   "sideBar": true,
   "threshold": 6,
   "toc_cell": false,
   "toc_section_display": "block",
   "toc_window_display": false
  }
 },
 "nbformat": 4,
 "nbformat_minor": 0
}
